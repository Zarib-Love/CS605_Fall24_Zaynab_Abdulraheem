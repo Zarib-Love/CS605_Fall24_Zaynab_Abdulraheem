{
 "cells": [
  {
   "cell_type": "code",
   "execution_count": 1,
   "id": "43097d89-a929-4016-8bce-6701991aacce",
   "metadata": {
    "scrolled": true
   },
   "outputs": [
    {
     "name": "stdout",
     "output_type": "stream",
     "text": [
      "Hello! Welcome to the world of Zee calculator.\n"
     ]
    },
    {
     "name": "stdin",
     "output_type": "stream",
     "text": [
      "Enter the first number:  23\n",
      "Enter the second number:  6\n"
     ]
    },
    {
     "name": "stdout",
     "output_type": "stream",
     "text": [
      "Select one of the listed operations: \n",
      " 1. Addition \n",
      " 2. Subtraction \n",
      " 3. Multiplication \n",
      " 4. Division \n",
      " 5. Power\n"
     ]
    },
    {
     "name": "stdin",
     "output_type": "stream",
     "text": [
      "Enter a number for your desired operation:  4\n"
     ]
    },
    {
     "name": "stdout",
     "output_type": "stream",
     "text": [
      "The result of your calculation is: \n",
      " 3.8333333333333335\n"
     ]
    },
    {
     "name": "stdin",
     "output_type": "stream",
     "text": [
      "Do you want to perform another calculation? (yes/no):  no\n"
     ]
    },
    {
     "name": "stdout",
     "output_type": "stream",
     "text": [
      "See you next time!\n"
     ]
    }
   ],
   "source": [
    "# calculator assignment\n",
    "print(\"Hello! Welcome to the world of Zee calculator.\")\n",
    "\n",
    "while True:\n",
    "    try:\n",
    "        num1 = input(\"Enter the first number: \")\n",
    "        num2 = input(\"Enter the second number: \")\n",
    "        int1 = int(num1)\n",
    "        int2 = int(num2)\n",
    "\n",
    "        print(\"Select one of the listed operations: \\n 1. Addition \\n 2. Subtraction \\n 3. Multiplication \\n 4. Division \\n 5. Power\")\n",
    "        op = int(input(\"Enter a number for your desired operation: \"))\n",
    "\n",
    "        if op == 1:\n",
    "            result = int1 + int2\n",
    "        elif op == 2:\n",
    "            result = int1 - int2\n",
    "        elif op == 3:\n",
    "            result = int1 * int2\n",
    "        elif op == 4:\n",
    "            result = int1 / int2\n",
    "        elif op == 5:\n",
    "            result = int1 ** int2\n",
    "        else:\n",
    "            print(\"Invalid input, select a number between 1 and 5\")\n",
    "            continue\n",
    "\n",
    "        print(\"The result of your calculation is: \\n\" , result)\n",
    "\n",
    "        next = input(\"Do you want to perform another calculation? (yes/no): \")\n",
    "        if next == \"yes\":\n",
    "            continue\n",
    "        else:\n",
    "            print(\"See you next time!\")\n",
    "            break\n",
    "    except:\n",
    "        print(\"Invalid input, enter a number.\")\n",
    "        continue\n",
    "    else:\n",
    "        break\n",
    "    "
   ]
  },
  {
   "cell_type": "code",
   "execution_count": null,
   "id": "018409cd-c4e8-4120-bfa3-75f47489a1b8",
   "metadata": {},
   "outputs": [],
   "source": []
  }
 ],
 "metadata": {
  "kernelspec": {
   "display_name": "Python 3 (ipykernel)",
   "language": "python",
   "name": "python3"
  },
  "language_info": {
   "codemirror_mode": {
    "name": "ipython",
    "version": 3
   },
   "file_extension": ".py",
   "mimetype": "text/x-python",
   "name": "python",
   "nbconvert_exporter": "python",
   "pygments_lexer": "ipython3",
   "version": "3.11.7"
  }
 },
 "nbformat": 4,
 "nbformat_minor": 5
}
